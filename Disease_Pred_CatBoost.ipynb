{
  "cells": [
    {
      "cell_type": "code",
      "source": [
        "%pip install catboost\n",
        "%pip install scispacy\n",
        "%pip install spacy\n",
        "%pip install https://s3-us-west-2.amazonaws.com/ai2-s2-scispacy/releases/v0.5.1/en_core_sci_md-0.5.1.tar.gz"
      ],
      "metadata": {
        "id": "Iz3clKlzppNx"
      },
      "execution_count": null,
      "outputs": []
    },
    {
      "cell_type": "code",
      "source": [
        "from google.colab import drive\n",
        "drive.mount('/content/drive')"
      ],
      "metadata": {
        "colab": {
          "base_uri": "https://localhost:8080/"
        },
        "id": "hxbiwzMFIbsc",
        "outputId": "095acb44-6925-452b-f2bc-5e745623cf67"
      },
      "execution_count": null,
      "outputs": [
        {
          "output_type": "stream",
          "name": "stdout",
          "text": [
            "Mounted at /content/drive\n"
          ]
        }
      ]
    },
    {
      "cell_type": "code",
      "execution_count": null,
      "metadata": {
        "id": "jbdoyfkipTvP"
      },
      "outputs": [],
      "source": [
        "import pandas as pd\n",
        "import numpy as np"
      ]
    },
    {
      "cell_type": "code",
      "execution_count": null,
      "metadata": {
        "id": "Tdekfsd1pTvQ"
      },
      "outputs": [],
      "source": [
        "df = pd.read_csv(\"/content/drive/MyDrive/main.csv\")"
      ]
    },
    {
      "cell_type": "code",
      "execution_count": null,
      "metadata": {
        "colab": {
          "base_uri": "https://localhost:8080/",
          "height": 369
        },
        "id": "GpR6n_uzpTvQ",
        "outputId": "96688acd-2afb-42bf-c7b3-e5ca8f0f0d83"
      },
      "outputs": [
        {
          "output_type": "execute_result",
          "data": {
            "text/plain": [
              "   frequency  UMLS:C0457096_yellow sputum  \\\n",
              "0     3363.0                            0   \n",
              "1     1421.0                            0   \n",
              "2     1337.0                            0   \n",
              "3     1284.0                            0   \n",
              "4     1029.0                            1   \n",
              "\n",
              "   UMLS:C0425560_cardiovascular finding  UMLS:C0020440_hypercapnia  \\\n",
              "0                                     0                          0   \n",
              "1                                     0                          0   \n",
              "2                                     0                          0   \n",
              "3                                     0                          0   \n",
              "4                                     0                          0   \n",
              "\n",
              "   UMLS:C0581912_heavy feeling  UMLS:C0002416_ambidexterity  \\\n",
              "0                            0                            0   \n",
              "1                            0                            0   \n",
              "2                            0                            0   \n",
              "3                            0                            0   \n",
              "4                            0                            0   \n",
              "\n",
              "   UMLS:C0521516_polymyalgia  UMLS:C0677500_stinging sensation  \\\n",
              "0                          0                                 0   \n",
              "1                          0                                 0   \n",
              "2                          0                                 0   \n",
              "3                          0                                 0   \n",
              "4                          0                                 0   \n",
              "\n",
              "   UMLS:C0392680_shortness of breath  UMLS:C0030252_palpitation  ...  \\\n",
              "0                                  1                          1  ...   \n",
              "1                                  1                          0  ...   \n",
              "2                                  0                          0  ...   \n",
              "3                                  1                          0  ...   \n",
              "4                                  1                          0  ...   \n",
              "\n",
              "   UMLS:C0030193_pain  UMLS:C0239832_numbness of hand  \\\n",
              "0                   0                               0   \n",
              "1                   0                               0   \n",
              "2                   0                               0   \n",
              "3                   0                               0   \n",
              "4                   0                               0   \n",
              "\n",
              "   UMLS:C0277977_Murphy's sign  UMLS:C0740844_air fluid level  \\\n",
              "0                            0                              0   \n",
              "1                            0                              0   \n",
              "2                            0                              0   \n",
              "3                            0                              0   \n",
              "4                            0                              0   \n",
              "\n",
              "   UMLS:C0026827_muscle hypotonia  UMLS:C0010200_cough  \\\n",
              "0                               0                    0   \n",
              "1                               0                    0   \n",
              "2                               0                    0   \n",
              "3                               0                    0   \n",
              "4                               0                    1   \n",
              "\n",
              "   UMLS:C0043094_weight gain  UMLS:C0600142_hot flush  UMLS:C0312422_blackout  \\\n",
              "0                          0                        0                       0   \n",
              "1                          0                        0                       0   \n",
              "2                          0                        0                       1   \n",
              "3                          0                        0                       0   \n",
              "4                          0                        0                       0   \n",
              "\n",
              "                                               label  \n",
              "0                 UMLS:C0020538_hypertensive disease  \n",
              "1                             UMLS:C0011847_diabetes  \n",
              "2  UMLS:C0011570_depression mental^UMLS:C0011581_...  \n",
              "3  UMLS:C0010054_coronary arteriosclerosis^UMLS:C...  \n",
              "4                            UMLS:C0032285_pneumonia  \n",
              "\n",
              "[5 rows x 409 columns]"
            ],
            "text/html": [
              "\n",
              "  <div id=\"df-665dd02c-04c2-4ee4-a7e0-91893299b7ca\">\n",
              "    <div class=\"colab-df-container\">\n",
              "      <div>\n",
              "<style scoped>\n",
              "    .dataframe tbody tr th:only-of-type {\n",
              "        vertical-align: middle;\n",
              "    }\n",
              "\n",
              "    .dataframe tbody tr th {\n",
              "        vertical-align: top;\n",
              "    }\n",
              "\n",
              "    .dataframe thead th {\n",
              "        text-align: right;\n",
              "    }\n",
              "</style>\n",
              "<table border=\"1\" class=\"dataframe\">\n",
              "  <thead>\n",
              "    <tr style=\"text-align: right;\">\n",
              "      <th></th>\n",
              "      <th>frequency</th>\n",
              "      <th>UMLS:C0457096_yellow sputum</th>\n",
              "      <th>UMLS:C0425560_cardiovascular finding</th>\n",
              "      <th>UMLS:C0020440_hypercapnia</th>\n",
              "      <th>UMLS:C0581912_heavy feeling</th>\n",
              "      <th>UMLS:C0002416_ambidexterity</th>\n",
              "      <th>UMLS:C0521516_polymyalgia</th>\n",
              "      <th>UMLS:C0677500_stinging sensation</th>\n",
              "      <th>UMLS:C0392680_shortness of breath</th>\n",
              "      <th>UMLS:C0030252_palpitation</th>\n",
              "      <th>...</th>\n",
              "      <th>UMLS:C0030193_pain</th>\n",
              "      <th>UMLS:C0239832_numbness of hand</th>\n",
              "      <th>UMLS:C0277977_Murphy's sign</th>\n",
              "      <th>UMLS:C0740844_air fluid level</th>\n",
              "      <th>UMLS:C0026827_muscle hypotonia</th>\n",
              "      <th>UMLS:C0010200_cough</th>\n",
              "      <th>UMLS:C0043094_weight gain</th>\n",
              "      <th>UMLS:C0600142_hot flush</th>\n",
              "      <th>UMLS:C0312422_blackout</th>\n",
              "      <th>label</th>\n",
              "    </tr>\n",
              "  </thead>\n",
              "  <tbody>\n",
              "    <tr>\n",
              "      <th>0</th>\n",
              "      <td>3363.0</td>\n",
              "      <td>0</td>\n",
              "      <td>0</td>\n",
              "      <td>0</td>\n",
              "      <td>0</td>\n",
              "      <td>0</td>\n",
              "      <td>0</td>\n",
              "      <td>0</td>\n",
              "      <td>1</td>\n",
              "      <td>1</td>\n",
              "      <td>...</td>\n",
              "      <td>0</td>\n",
              "      <td>0</td>\n",
              "      <td>0</td>\n",
              "      <td>0</td>\n",
              "      <td>0</td>\n",
              "      <td>0</td>\n",
              "      <td>0</td>\n",
              "      <td>0</td>\n",
              "      <td>0</td>\n",
              "      <td>UMLS:C0020538_hypertensive disease</td>\n",
              "    </tr>\n",
              "    <tr>\n",
              "      <th>1</th>\n",
              "      <td>1421.0</td>\n",
              "      <td>0</td>\n",
              "      <td>0</td>\n",
              "      <td>0</td>\n",
              "      <td>0</td>\n",
              "      <td>0</td>\n",
              "      <td>0</td>\n",
              "      <td>0</td>\n",
              "      <td>1</td>\n",
              "      <td>0</td>\n",
              "      <td>...</td>\n",
              "      <td>0</td>\n",
              "      <td>0</td>\n",
              "      <td>0</td>\n",
              "      <td>0</td>\n",
              "      <td>0</td>\n",
              "      <td>0</td>\n",
              "      <td>0</td>\n",
              "      <td>0</td>\n",
              "      <td>0</td>\n",
              "      <td>UMLS:C0011847_diabetes</td>\n",
              "    </tr>\n",
              "    <tr>\n",
              "      <th>2</th>\n",
              "      <td>1337.0</td>\n",
              "      <td>0</td>\n",
              "      <td>0</td>\n",
              "      <td>0</td>\n",
              "      <td>0</td>\n",
              "      <td>0</td>\n",
              "      <td>0</td>\n",
              "      <td>0</td>\n",
              "      <td>0</td>\n",
              "      <td>0</td>\n",
              "      <td>...</td>\n",
              "      <td>0</td>\n",
              "      <td>0</td>\n",
              "      <td>0</td>\n",
              "      <td>0</td>\n",
              "      <td>0</td>\n",
              "      <td>0</td>\n",
              "      <td>0</td>\n",
              "      <td>0</td>\n",
              "      <td>1</td>\n",
              "      <td>UMLS:C0011570_depression mental^UMLS:C0011581_...</td>\n",
              "    </tr>\n",
              "    <tr>\n",
              "      <th>3</th>\n",
              "      <td>1284.0</td>\n",
              "      <td>0</td>\n",
              "      <td>0</td>\n",
              "      <td>0</td>\n",
              "      <td>0</td>\n",
              "      <td>0</td>\n",
              "      <td>0</td>\n",
              "      <td>0</td>\n",
              "      <td>1</td>\n",
              "      <td>0</td>\n",
              "      <td>...</td>\n",
              "      <td>0</td>\n",
              "      <td>0</td>\n",
              "      <td>0</td>\n",
              "      <td>0</td>\n",
              "      <td>0</td>\n",
              "      <td>0</td>\n",
              "      <td>0</td>\n",
              "      <td>0</td>\n",
              "      <td>0</td>\n",
              "      <td>UMLS:C0010054_coronary arteriosclerosis^UMLS:C...</td>\n",
              "    </tr>\n",
              "    <tr>\n",
              "      <th>4</th>\n",
              "      <td>1029.0</td>\n",
              "      <td>1</td>\n",
              "      <td>0</td>\n",
              "      <td>0</td>\n",
              "      <td>0</td>\n",
              "      <td>0</td>\n",
              "      <td>0</td>\n",
              "      <td>0</td>\n",
              "      <td>1</td>\n",
              "      <td>0</td>\n",
              "      <td>...</td>\n",
              "      <td>0</td>\n",
              "      <td>0</td>\n",
              "      <td>0</td>\n",
              "      <td>0</td>\n",
              "      <td>0</td>\n",
              "      <td>1</td>\n",
              "      <td>0</td>\n",
              "      <td>0</td>\n",
              "      <td>0</td>\n",
              "      <td>UMLS:C0032285_pneumonia</td>\n",
              "    </tr>\n",
              "  </tbody>\n",
              "</table>\n",
              "<p>5 rows × 409 columns</p>\n",
              "</div>\n",
              "      <button class=\"colab-df-convert\" onclick=\"convertToInteractive('df-665dd02c-04c2-4ee4-a7e0-91893299b7ca')\"\n",
              "              title=\"Convert this dataframe to an interactive table.\"\n",
              "              style=\"display:none;\">\n",
              "        \n",
              "  <svg xmlns=\"http://www.w3.org/2000/svg\" height=\"24px\"viewBox=\"0 0 24 24\"\n",
              "       width=\"24px\">\n",
              "    <path d=\"M0 0h24v24H0V0z\" fill=\"none\"/>\n",
              "    <path d=\"M18.56 5.44l.94 2.06.94-2.06 2.06-.94-2.06-.94-.94-2.06-.94 2.06-2.06.94zm-11 1L8.5 8.5l.94-2.06 2.06-.94-2.06-.94L8.5 2.5l-.94 2.06-2.06.94zm10 10l.94 2.06.94-2.06 2.06-.94-2.06-.94-.94-2.06-.94 2.06-2.06.94z\"/><path d=\"M17.41 7.96l-1.37-1.37c-.4-.4-.92-.59-1.43-.59-.52 0-1.04.2-1.43.59L10.3 9.45l-7.72 7.72c-.78.78-.78 2.05 0 2.83L4 21.41c.39.39.9.59 1.41.59.51 0 1.02-.2 1.41-.59l7.78-7.78 2.81-2.81c.8-.78.8-2.07 0-2.86zM5.41 20L4 18.59l7.72-7.72 1.47 1.35L5.41 20z\"/>\n",
              "  </svg>\n",
              "      </button>\n",
              "      \n",
              "  <style>\n",
              "    .colab-df-container {\n",
              "      display:flex;\n",
              "      flex-wrap:wrap;\n",
              "      gap: 12px;\n",
              "    }\n",
              "\n",
              "    .colab-df-convert {\n",
              "      background-color: #E8F0FE;\n",
              "      border: none;\n",
              "      border-radius: 50%;\n",
              "      cursor: pointer;\n",
              "      display: none;\n",
              "      fill: #1967D2;\n",
              "      height: 32px;\n",
              "      padding: 0 0 0 0;\n",
              "      width: 32px;\n",
              "    }\n",
              "\n",
              "    .colab-df-convert:hover {\n",
              "      background-color: #E2EBFA;\n",
              "      box-shadow: 0px 1px 2px rgba(60, 64, 67, 0.3), 0px 1px 3px 1px rgba(60, 64, 67, 0.15);\n",
              "      fill: #174EA6;\n",
              "    }\n",
              "\n",
              "    [theme=dark] .colab-df-convert {\n",
              "      background-color: #3B4455;\n",
              "      fill: #D2E3FC;\n",
              "    }\n",
              "\n",
              "    [theme=dark] .colab-df-convert:hover {\n",
              "      background-color: #434B5C;\n",
              "      box-shadow: 0px 1px 3px 1px rgba(0, 0, 0, 0.15);\n",
              "      filter: drop-shadow(0px 1px 2px rgba(0, 0, 0, 0.3));\n",
              "      fill: #FFFFFF;\n",
              "    }\n",
              "  </style>\n",
              "\n",
              "      <script>\n",
              "        const buttonEl =\n",
              "          document.querySelector('#df-665dd02c-04c2-4ee4-a7e0-91893299b7ca button.colab-df-convert');\n",
              "        buttonEl.style.display =\n",
              "          google.colab.kernel.accessAllowed ? 'block' : 'none';\n",
              "\n",
              "        async function convertToInteractive(key) {\n",
              "          const element = document.querySelector('#df-665dd02c-04c2-4ee4-a7e0-91893299b7ca');\n",
              "          const dataTable =\n",
              "            await google.colab.kernel.invokeFunction('convertToInteractive',\n",
              "                                                     [key], {});\n",
              "          if (!dataTable) return;\n",
              "\n",
              "          const docLinkHtml = 'Like what you see? Visit the ' +\n",
              "            '<a target=\"_blank\" href=https://colab.research.google.com/notebooks/data_table.ipynb>data table notebook</a>'\n",
              "            + ' to learn more about interactive tables.';\n",
              "          element.innerHTML = '';\n",
              "          dataTable['output_type'] = 'display_data';\n",
              "          await google.colab.output.renderOutput(dataTable, element);\n",
              "          const docLink = document.createElement('div');\n",
              "          docLink.innerHTML = docLinkHtml;\n",
              "          element.appendChild(docLink);\n",
              "        }\n",
              "      </script>\n",
              "    </div>\n",
              "  </div>\n",
              "  "
            ]
          },
          "metadata": {},
          "execution_count": 5
        }
      ],
      "source": [
        "df.head()"
      ]
    },
    {
      "cell_type": "code",
      "execution_count": null,
      "metadata": {
        "id": "uG0rlAdupTvQ"
      },
      "outputs": [],
      "source": [
        "mod_df = df.loc[df.index.repeat(df['frequency'])].reset_index(drop=True)"
      ]
    },
    {
      "cell_type": "code",
      "execution_count": null,
      "metadata": {
        "id": "_5Qc8oHnpTvR"
      },
      "outputs": [],
      "source": [
        "# calculate class weights\n",
        "from sklearn.utils import class_weight\n",
        "from sklearn.preprocessing import LabelEncoder\n",
        "\n",
        "label = mod_df['label']\n",
        "encoder = LabelEncoder()\n",
        "encoded_label = encoder.fit_transform(label)\n",
        "\n",
        "class_weights = class_weight.compute_class_weight(class_weight='balanced', classes=np.unique(encoded_label), y=encoded_label)"
      ]
    },
    {
      "cell_type": "code",
      "execution_count": null,
      "metadata": {
        "colab": {
          "base_uri": "https://localhost:8080/"
        },
        "id": "YLyzvY1NpTvR",
        "outputId": "16873d17-5147-4291-af6d-f8e392c9ec94"
      },
      "outputs": [
        {
          "output_type": "execute_result",
          "data": {
            "text/plain": [
              "(33724,)"
            ]
          },
          "metadata": {},
          "execution_count": 8
        }
      ],
      "source": [
        "encoded_label.shape"
      ]
    },
    {
      "cell_type": "code",
      "execution_count": null,
      "metadata": {
        "id": "bjYk7gPipTvR"
      },
      "outputs": [],
      "source": [
        "mod_df.drop(['frequency', 'label', 'UMLS:C0032739_'], axis=1, inplace=True)"
      ]
    },
    {
      "cell_type": "code",
      "execution_count": null,
      "metadata": {
        "colab": {
          "base_uri": "https://localhost:8080/",
          "height": 317
        },
        "id": "Q0pDdAtupTvR",
        "outputId": "4aec4140-f15b-40c7-bf3f-34539856c3b9"
      },
      "outputs": [
        {
          "output_type": "execute_result",
          "data": {
            "text/plain": [
              "   UMLS:C0457096_yellow sputum  UMLS:C0425560_cardiovascular finding  \\\n",
              "0                            0                                     0   \n",
              "1                            0                                     0   \n",
              "2                            0                                     0   \n",
              "3                            0                                     0   \n",
              "4                            0                                     0   \n",
              "\n",
              "   UMLS:C0020440_hypercapnia  UMLS:C0581912_heavy feeling  \\\n",
              "0                          0                            0   \n",
              "1                          0                            0   \n",
              "2                          0                            0   \n",
              "3                          0                            0   \n",
              "4                          0                            0   \n",
              "\n",
              "   UMLS:C0002416_ambidexterity  UMLS:C0521516_polymyalgia  \\\n",
              "0                            0                          0   \n",
              "1                            0                          0   \n",
              "2                            0                          0   \n",
              "3                            0                          0   \n",
              "4                            0                          0   \n",
              "\n",
              "   UMLS:C0677500_stinging sensation  UMLS:C0392680_shortness of breath  \\\n",
              "0                                 0                                  1   \n",
              "1                                 0                                  1   \n",
              "2                                 0                                  1   \n",
              "3                                 0                                  1   \n",
              "4                                 0                                  1   \n",
              "\n",
              "   UMLS:C0030252_palpitation  UMLS:C0020621_hypokalemia  ...  \\\n",
              "0                          1                          0  ...   \n",
              "1                          1                          0  ...   \n",
              "2                          1                          0  ...   \n",
              "3                          1                          0  ...   \n",
              "4                          1                          0  ...   \n",
              "\n",
              "   UMLS:C0233071_para 2  UMLS:C0030193_pain  UMLS:C0239832_numbness of hand  \\\n",
              "0                     0                   0                               0   \n",
              "1                     0                   0                               0   \n",
              "2                     0                   0                               0   \n",
              "3                     0                   0                               0   \n",
              "4                     0                   0                               0   \n",
              "\n",
              "   UMLS:C0277977_Murphy's sign  UMLS:C0740844_air fluid level  \\\n",
              "0                            0                              0   \n",
              "1                            0                              0   \n",
              "2                            0                              0   \n",
              "3                            0                              0   \n",
              "4                            0                              0   \n",
              "\n",
              "   UMLS:C0026827_muscle hypotonia  UMLS:C0010200_cough  \\\n",
              "0                               0                    0   \n",
              "1                               0                    0   \n",
              "2                               0                    0   \n",
              "3                               0                    0   \n",
              "4                               0                    0   \n",
              "\n",
              "   UMLS:C0043094_weight gain  UMLS:C0600142_hot flush  UMLS:C0312422_blackout  \n",
              "0                          0                        0                       0  \n",
              "1                          0                        0                       0  \n",
              "2                          0                        0                       0  \n",
              "3                          0                        0                       0  \n",
              "4                          0                        0                       0  \n",
              "\n",
              "[5 rows x 406 columns]"
            ],
            "text/html": [
              "\n",
              "  <div id=\"df-1759227e-67d2-4c34-8dd9-96f0ff358163\">\n",
              "    <div class=\"colab-df-container\">\n",
              "      <div>\n",
              "<style scoped>\n",
              "    .dataframe tbody tr th:only-of-type {\n",
              "        vertical-align: middle;\n",
              "    }\n",
              "\n",
              "    .dataframe tbody tr th {\n",
              "        vertical-align: top;\n",
              "    }\n",
              "\n",
              "    .dataframe thead th {\n",
              "        text-align: right;\n",
              "    }\n",
              "</style>\n",
              "<table border=\"1\" class=\"dataframe\">\n",
              "  <thead>\n",
              "    <tr style=\"text-align: right;\">\n",
              "      <th></th>\n",
              "      <th>UMLS:C0457096_yellow sputum</th>\n",
              "      <th>UMLS:C0425560_cardiovascular finding</th>\n",
              "      <th>UMLS:C0020440_hypercapnia</th>\n",
              "      <th>UMLS:C0581912_heavy feeling</th>\n",
              "      <th>UMLS:C0002416_ambidexterity</th>\n",
              "      <th>UMLS:C0521516_polymyalgia</th>\n",
              "      <th>UMLS:C0677500_stinging sensation</th>\n",
              "      <th>UMLS:C0392680_shortness of breath</th>\n",
              "      <th>UMLS:C0030252_palpitation</th>\n",
              "      <th>UMLS:C0020621_hypokalemia</th>\n",
              "      <th>...</th>\n",
              "      <th>UMLS:C0233071_para 2</th>\n",
              "      <th>UMLS:C0030193_pain</th>\n",
              "      <th>UMLS:C0239832_numbness of hand</th>\n",
              "      <th>UMLS:C0277977_Murphy's sign</th>\n",
              "      <th>UMLS:C0740844_air fluid level</th>\n",
              "      <th>UMLS:C0026827_muscle hypotonia</th>\n",
              "      <th>UMLS:C0010200_cough</th>\n",
              "      <th>UMLS:C0043094_weight gain</th>\n",
              "      <th>UMLS:C0600142_hot flush</th>\n",
              "      <th>UMLS:C0312422_blackout</th>\n",
              "    </tr>\n",
              "  </thead>\n",
              "  <tbody>\n",
              "    <tr>\n",
              "      <th>0</th>\n",
              "      <td>0</td>\n",
              "      <td>0</td>\n",
              "      <td>0</td>\n",
              "      <td>0</td>\n",
              "      <td>0</td>\n",
              "      <td>0</td>\n",
              "      <td>0</td>\n",
              "      <td>1</td>\n",
              "      <td>1</td>\n",
              "      <td>0</td>\n",
              "      <td>...</td>\n",
              "      <td>0</td>\n",
              "      <td>0</td>\n",
              "      <td>0</td>\n",
              "      <td>0</td>\n",
              "      <td>0</td>\n",
              "      <td>0</td>\n",
              "      <td>0</td>\n",
              "      <td>0</td>\n",
              "      <td>0</td>\n",
              "      <td>0</td>\n",
              "    </tr>\n",
              "    <tr>\n",
              "      <th>1</th>\n",
              "      <td>0</td>\n",
              "      <td>0</td>\n",
              "      <td>0</td>\n",
              "      <td>0</td>\n",
              "      <td>0</td>\n",
              "      <td>0</td>\n",
              "      <td>0</td>\n",
              "      <td>1</td>\n",
              "      <td>1</td>\n",
              "      <td>0</td>\n",
              "      <td>...</td>\n",
              "      <td>0</td>\n",
              "      <td>0</td>\n",
              "      <td>0</td>\n",
              "      <td>0</td>\n",
              "      <td>0</td>\n",
              "      <td>0</td>\n",
              "      <td>0</td>\n",
              "      <td>0</td>\n",
              "      <td>0</td>\n",
              "      <td>0</td>\n",
              "    </tr>\n",
              "    <tr>\n",
              "      <th>2</th>\n",
              "      <td>0</td>\n",
              "      <td>0</td>\n",
              "      <td>0</td>\n",
              "      <td>0</td>\n",
              "      <td>0</td>\n",
              "      <td>0</td>\n",
              "      <td>0</td>\n",
              "      <td>1</td>\n",
              "      <td>1</td>\n",
              "      <td>0</td>\n",
              "      <td>...</td>\n",
              "      <td>0</td>\n",
              "      <td>0</td>\n",
              "      <td>0</td>\n",
              "      <td>0</td>\n",
              "      <td>0</td>\n",
              "      <td>0</td>\n",
              "      <td>0</td>\n",
              "      <td>0</td>\n",
              "      <td>0</td>\n",
              "      <td>0</td>\n",
              "    </tr>\n",
              "    <tr>\n",
              "      <th>3</th>\n",
              "      <td>0</td>\n",
              "      <td>0</td>\n",
              "      <td>0</td>\n",
              "      <td>0</td>\n",
              "      <td>0</td>\n",
              "      <td>0</td>\n",
              "      <td>0</td>\n",
              "      <td>1</td>\n",
              "      <td>1</td>\n",
              "      <td>0</td>\n",
              "      <td>...</td>\n",
              "      <td>0</td>\n",
              "      <td>0</td>\n",
              "      <td>0</td>\n",
              "      <td>0</td>\n",
              "      <td>0</td>\n",
              "      <td>0</td>\n",
              "      <td>0</td>\n",
              "      <td>0</td>\n",
              "      <td>0</td>\n",
              "      <td>0</td>\n",
              "    </tr>\n",
              "    <tr>\n",
              "      <th>4</th>\n",
              "      <td>0</td>\n",
              "      <td>0</td>\n",
              "      <td>0</td>\n",
              "      <td>0</td>\n",
              "      <td>0</td>\n",
              "      <td>0</td>\n",
              "      <td>0</td>\n",
              "      <td>1</td>\n",
              "      <td>1</td>\n",
              "      <td>0</td>\n",
              "      <td>...</td>\n",
              "      <td>0</td>\n",
              "      <td>0</td>\n",
              "      <td>0</td>\n",
              "      <td>0</td>\n",
              "      <td>0</td>\n",
              "      <td>0</td>\n",
              "      <td>0</td>\n",
              "      <td>0</td>\n",
              "      <td>0</td>\n",
              "      <td>0</td>\n",
              "    </tr>\n",
              "  </tbody>\n",
              "</table>\n",
              "<p>5 rows × 406 columns</p>\n",
              "</div>\n",
              "      <button class=\"colab-df-convert\" onclick=\"convertToInteractive('df-1759227e-67d2-4c34-8dd9-96f0ff358163')\"\n",
              "              title=\"Convert this dataframe to an interactive table.\"\n",
              "              style=\"display:none;\">\n",
              "        \n",
              "  <svg xmlns=\"http://www.w3.org/2000/svg\" height=\"24px\"viewBox=\"0 0 24 24\"\n",
              "       width=\"24px\">\n",
              "    <path d=\"M0 0h24v24H0V0z\" fill=\"none\"/>\n",
              "    <path d=\"M18.56 5.44l.94 2.06.94-2.06 2.06-.94-2.06-.94-.94-2.06-.94 2.06-2.06.94zm-11 1L8.5 8.5l.94-2.06 2.06-.94-2.06-.94L8.5 2.5l-.94 2.06-2.06.94zm10 10l.94 2.06.94-2.06 2.06-.94-2.06-.94-.94-2.06-.94 2.06-2.06.94z\"/><path d=\"M17.41 7.96l-1.37-1.37c-.4-.4-.92-.59-1.43-.59-.52 0-1.04.2-1.43.59L10.3 9.45l-7.72 7.72c-.78.78-.78 2.05 0 2.83L4 21.41c.39.39.9.59 1.41.59.51 0 1.02-.2 1.41-.59l7.78-7.78 2.81-2.81c.8-.78.8-2.07 0-2.86zM5.41 20L4 18.59l7.72-7.72 1.47 1.35L5.41 20z\"/>\n",
              "  </svg>\n",
              "      </button>\n",
              "      \n",
              "  <style>\n",
              "    .colab-df-container {\n",
              "      display:flex;\n",
              "      flex-wrap:wrap;\n",
              "      gap: 12px;\n",
              "    }\n",
              "\n",
              "    .colab-df-convert {\n",
              "      background-color: #E8F0FE;\n",
              "      border: none;\n",
              "      border-radius: 50%;\n",
              "      cursor: pointer;\n",
              "      display: none;\n",
              "      fill: #1967D2;\n",
              "      height: 32px;\n",
              "      padding: 0 0 0 0;\n",
              "      width: 32px;\n",
              "    }\n",
              "\n",
              "    .colab-df-convert:hover {\n",
              "      background-color: #E2EBFA;\n",
              "      box-shadow: 0px 1px 2px rgba(60, 64, 67, 0.3), 0px 1px 3px 1px rgba(60, 64, 67, 0.15);\n",
              "      fill: #174EA6;\n",
              "    }\n",
              "\n",
              "    [theme=dark] .colab-df-convert {\n",
              "      background-color: #3B4455;\n",
              "      fill: #D2E3FC;\n",
              "    }\n",
              "\n",
              "    [theme=dark] .colab-df-convert:hover {\n",
              "      background-color: #434B5C;\n",
              "      box-shadow: 0px 1px 3px 1px rgba(0, 0, 0, 0.15);\n",
              "      filter: drop-shadow(0px 1px 2px rgba(0, 0, 0, 0.3));\n",
              "      fill: #FFFFFF;\n",
              "    }\n",
              "  </style>\n",
              "\n",
              "      <script>\n",
              "        const buttonEl =\n",
              "          document.querySelector('#df-1759227e-67d2-4c34-8dd9-96f0ff358163 button.colab-df-convert');\n",
              "        buttonEl.style.display =\n",
              "          google.colab.kernel.accessAllowed ? 'block' : 'none';\n",
              "\n",
              "        async function convertToInteractive(key) {\n",
              "          const element = document.querySelector('#df-1759227e-67d2-4c34-8dd9-96f0ff358163');\n",
              "          const dataTable =\n",
              "            await google.colab.kernel.invokeFunction('convertToInteractive',\n",
              "                                                     [key], {});\n",
              "          if (!dataTable) return;\n",
              "\n",
              "          const docLinkHtml = 'Like what you see? Visit the ' +\n",
              "            '<a target=\"_blank\" href=https://colab.research.google.com/notebooks/data_table.ipynb>data table notebook</a>'\n",
              "            + ' to learn more about interactive tables.';\n",
              "          element.innerHTML = '';\n",
              "          dataTable['output_type'] = 'display_data';\n",
              "          await google.colab.output.renderOutput(dataTable, element);\n",
              "          const docLink = document.createElement('div');\n",
              "          docLink.innerHTML = docLinkHtml;\n",
              "          element.appendChild(docLink);\n",
              "        }\n",
              "      </script>\n",
              "    </div>\n",
              "  </div>\n",
              "  "
            ]
          },
          "metadata": {},
          "execution_count": 10
        }
      ],
      "source": [
        "mod_df.head()"
      ]
    },
    {
      "cell_type": "markdown",
      "metadata": {
        "id": "dU5FmDzYpTvS"
      },
      "source": [
        "## CatBoost"
      ]
    },
    {
      "cell_type": "code",
      "source": [
        "# train test split\n",
        "from sklearn.model_selection import train_test_split\n",
        "\n",
        "X_train, X_test, y_train, y_test = train_test_split(mod_df, encoded_label, test_size=0.2, random_state=42)"
      ],
      "metadata": {
        "id": "ul27zI2HrWkg"
      },
      "execution_count": null,
      "outputs": []
    },
    {
      "cell_type": "code",
      "execution_count": null,
      "metadata": {
        "colab": {
          "base_uri": "https://localhost:8080/"
        },
        "id": "zM4R3_8QpTvT",
        "outputId": "d8d2263e-e694-47f6-a6f9-08718ce9b6c2"
      },
      "outputs": [
        {
          "output_type": "stream",
          "name": "stdout",
          "text": [
            "0:\tlearn: 0.0671642\ttest: 0.0624842\tbest: 0.0624842 (0)\ttotal: 188ms\tremaining: 3.19s\n",
            "1:\tlearn: 0.1268657\ttest: 0.1179046\tbest: 0.1179046 (1)\ttotal: 335ms\tremaining: 2.68s\n",
            "2:\tlearn: 0.1716418\ttest: 0.1654432\tbest: 0.1654432 (2)\ttotal: 465ms\tremaining: 2.32s\n",
            "3:\tlearn: 0.2164179\ttest: 0.2133833\tbest: 0.2133833 (3)\ttotal: 603ms\tremaining: 2.11s\n",
            "4:\tlearn: 0.2611940\ttest: 0.2576944\tbest: 0.2576944 (4)\ttotal: 733ms\tremaining: 1.91s\n",
            "5:\tlearn: 0.3059702\ttest: 0.3031593\tbest: 0.3031593 (5)\ttotal: 839ms\tremaining: 1.68s\n",
            "6:\tlearn: 0.3507463\ttest: 0.3446787\tbest: 0.3446787 (6)\ttotal: 947ms\tremaining: 1.49s\n",
            "7:\tlearn: 0.3955224\ttest: 0.3922079\tbest: 0.3922079 (7)\ttotal: 1.05s\tremaining: 1.31s\n",
            "8:\tlearn: 0.4477612\ttest: 0.4413776\tbest: 0.4413776 (8)\ttotal: 1.16s\tremaining: 1.16s\n",
            "9:\tlearn: 0.4925373\ttest: 0.4910825\tbest: 0.4910825 (9)\ttotal: 1.26s\tremaining: 1.01s\n",
            "10:\tlearn: 0.5373134\ttest: 0.5318031\tbest: 0.5318031 (10)\ttotal: 1.37s\tremaining: 875ms\n",
            "11:\tlearn: 0.6492537\ttest: 0.6419997\tbest: 0.6419997 (11)\ttotal: 1.49s\tremaining: 743ms\n",
            "12:\tlearn: 0.7761194\ttest: 0.7699913\tbest: 0.7699913 (12)\ttotal: 1.6s\tremaining: 615ms\n",
            "13:\tlearn: 0.8432836\ttest: 0.8444392\tbest: 0.8444392 (13)\ttotal: 1.71s\tremaining: 488ms\n",
            "14:\tlearn: 0.8955224\ttest: 0.9007724\tbest: 0.9007724 (14)\ttotal: 1.83s\tremaining: 366ms\n",
            "15:\tlearn: 0.9402985\ttest: 0.9441028\tbest: 0.9441028 (15)\ttotal: 1.94s\tremaining: 242ms\n",
            "16:\tlearn: 0.9701493\ttest: 0.9736014\tbest: 0.9736014 (16)\ttotal: 2.05s\tremaining: 121ms\n",
            "17:\tlearn: 0.9925373\ttest: 0.9940092\tbest: 0.9940092 (17)\ttotal: 2.17s\tremaining: 0us\n",
            "bestTest = 0.9940091505\n",
            "bestIteration = 17\n"
          ]
        },
        {
          "output_type": "execute_result",
          "data": {
            "text/plain": [
              "<catboost.core.CatBoostClassifier at 0x7fa43814bc40>"
            ]
          },
          "metadata": {},
          "execution_count": 12
        }
      ],
      "source": [
        "from catboost import CatBoostClassifier\n",
        "from sklearn.model_selection import cross_val_score\n",
        "\n",
        "model = CatBoostClassifier(iterations=18, task_type=\"GPU\", devices='0' ,learning_rate=0.1, depth=6, loss_function='MultiClass', eval_metric='Accuracy', auto_class_weights='Balanced')\n",
        "# cv = cross_val_score(model, mod_df, encoded_label, cv=5, scoring='accuracy')\n",
        "model.fit(X_train, y_train, eval_set=(X_test, y_test), use_best_model=True, verbose=True)\n"
      ]
    },
    {
      "cell_type": "code",
      "execution_count": null,
      "metadata": {
        "id": "yBl8T35mpTvT"
      },
      "outputs": [],
      "source": [
        "import en_core_sci_md\n",
        "nlp_md = en_core_sci_md.load()"
      ]
    },
    {
      "cell_type": "code",
      "source": [
        "def get_entities(text):\n",
        "    entity = nlp_md(text)\n",
        "    return [(ent.text, ent.label_) for ent in entity.ents]"
      ],
      "metadata": {
        "id": "G9pH-vaVttsW"
      },
      "execution_count": null,
      "outputs": []
    },
    {
      "cell_type": "code",
      "source": [
        "input_text = input()\n",
        "entities = get_entities(input_text)\n",
        "entities"
      ],
      "metadata": {
        "colab": {
          "base_uri": "https://localhost:8080/"
        },
        "id": "usMDMTBct4gm",
        "outputId": "69b64352-4bcc-4c91-eefd-04dbb7f601b2"
      },
      "execution_count": null,
      "outputs": [
        {
          "name": "stdout",
          "output_type": "stream",
          "text": [
            "cough, fever\n"
          ]
        },
        {
          "output_type": "execute_result",
          "data": {
            "text/plain": [
              "[('cough', 'ENTITY'), ('fever', 'ENTITY')]"
            ]
          },
          "metadata": {},
          "execution_count": 25
        }
      ]
    },
    {
      "cell_type": "code",
      "source": [
        "# get the similarity between 2 words\n",
        "\n",
        "# from scipy import spatial\n",
        "\n",
        "# def get_similarity(word1, word2):\n",
        "#     return 1 - spatial.distance.cosine(nlp_md(word1).vector, nlp_md(word2).vector)\n",
        "\n",
        "from difflib import SequenceMatcher\n",
        "\n",
        "def get_similarity(w1, w2):\n",
        "  return SequenceMatcher(None, w1, w2).ratio()"
      ],
      "metadata": {
        "id": "ky2UJMxEt9Mm"
      },
      "execution_count": null,
      "outputs": []
    },
    {
      "cell_type": "code",
      "source": [
        "features = mod_df.columns\n",
        "test_input = pd.DataFrame(columns=features)\n",
        "test_input.loc[len(test_input)] = np.nan\n",
        "\n",
        "for (ent, _) in entities:\n",
        "  max_feature = []\n",
        "  max_similarity = 0\n",
        "  for feature in features:\n",
        "    feature_name = feature.split(\"_\")[1]\n",
        "    sim = get_similarity(ent, feature_name)\n",
        "    if max_similarity < sim:\n",
        "      max_similarity = sim\n",
        "      max_feature = feature\n",
        "  test_input[max_feature] = 1\n",
        "test_input = test_input.fillna(0)"
      ],
      "metadata": {
        "id": "KkQrQm4mv164"
      },
      "execution_count": null,
      "outputs": []
    },
    {
      "cell_type": "code",
      "source": [
        "test = test_input.loc[:, test_input.any()]\n",
        "print(test)\n"
      ],
      "metadata": {
        "colab": {
          "base_uri": "https://localhost:8080/"
        },
        "id": "rBDlpsyazRdB",
        "outputId": "595f8424-f560-4c95-e5ec-ee3b90e22666"
      },
      "execution_count": null,
      "outputs": [
        {
          "output_type": "stream",
          "name": "stdout",
          "text": [
            "   UMLS:C0015967_fever  UMLS:C0010200_cough\n",
            "0                    1                    1\n"
          ]
        }
      ]
    },
    {
      "cell_type": "code",
      "source": [
        "#@title\n",
        "test_input = pd.DataFrame(columns=features)\n",
        "test_input.loc[len(test_input)] = [0,0,0,0,0,0,0,1,1,0,0,0,0,0,0,0,0,0,0,0,0,0,0,0,0,0,0,0,0,0,0,0,0,0,0,0,0,0,0,0,0,0,0,0,0,0,0,0,0,0,0,0,0,0,0,0,0,0,0,0,0,0,0,0,0,0,0,0,0,0,0,0,0,0,0,0,0,0,0,0,0,0,0,0,0,0,0,0,0,0,0,0,0,0,0,0,0,0,0,0,0,0,0,0,0,0,0,0,0,0,0,0,1,0,0,0,0,0,0,0,0,0,0,0,0,0,0,0,0,0,0,0,0,0,0,0,0,0,0,1,0,0,0,0,0,0,1,0,0,0,0,0,0,0,0,0,0,0,0,0,0,0,0,0,0,0,0,0,0,0,0,0,0,0,0,1,0,0,0,0,0,0,0,0,0,0,0,0,0,0,0,0,0,0,0,0,0,0,0,1,0,0,0,0,1,0,0,0,0,0,0,0,0,0,0,0,0,0,0,0,0,0,0,1,0,0,0,0,0,0,0,0,0,0,0,0,0,0,0,0,0,0,0,0,0,0,0,0,0,0,0,0,0,0,0,0,0,0,0,0,0,0,0,0,0,0,0,0,0,0,0,0,0,0,0,0,0,0,0,0,0,0,0,0,0,1,0,0,0,0,0,0,0,1,0,0,0,0,0,0,0,0,0,0,0,0,0,0,0,0,0,0,0,0,0,0,0,0,1,0,0,0,0,0,0,0,0,0,0,0,0,0,0,0,0,0,0,0,0,0,0,0,0,0,0,0,0,0,0,0,0,0,0,0,0,0,0,0,0,0,0,0,0,1,0,0,0,0,0,0,0,0,0,0,0,0,0,0,0,0,0,0,0,0,0,0,0,0,0,0,0,0,0,0,0,0,0,0,0,0,0,0,0,0,0,0]"
      ],
      "metadata": {
        "cellView": "form",
        "id": "QvovcM2X5XVS"
      },
      "execution_count": null,
      "outputs": []
    },
    {
      "cell_type": "code",
      "source": [
        "pred = model.predict(test_input)\n",
        "\n",
        "encoder.inverse_transform(pred[0])"
      ],
      "metadata": {
        "colab": {
          "base_uri": "https://localhost:8080/"
        },
        "id": "q_JqMHJv4V_p",
        "outputId": "4dd7dba4-7fbb-4d07-be48-4f6f9fd3dff8"
      },
      "execution_count": null,
      "outputs": [
        {
          "output_type": "execute_result",
          "data": {
            "text/plain": [
              "array(['UMLS:C0020538_hypertensive disease'], dtype=object)"
            ]
          },
          "metadata": {},
          "execution_count": 37
        }
      ]
    }
  ],
  "metadata": {
    "kernelspec": {
      "display_name": ".venv",
      "language": "python",
      "name": "python3"
    },
    "language_info": {
      "codemirror_mode": {
        "name": "ipython",
        "version": 3
      },
      "file_extension": ".py",
      "mimetype": "text/x-python",
      "name": "python",
      "nbconvert_exporter": "python",
      "pygments_lexer": "ipython3",
      "version": "3.10.6"
    },
    "orig_nbformat": 4,
    "colab": {
      "provenance": []
    },
    "accelerator": "GPU",
    "gpuClass": "standard"
  },
  "nbformat": 4,
  "nbformat_minor": 0
}